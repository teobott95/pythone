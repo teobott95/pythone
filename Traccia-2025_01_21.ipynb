{
 "cells": [
  {
   "cell_type": "markdown",
   "id": "24faca44-15f3-410b-9489-235f58e8f727",
   "metadata": {},
   "source": [
    "| Nome           | Cognome                | **21/1** | **23/1** | **28/1** | **30/1** | **31/1** |  **6/2** |             \n",
    "|:-------------- |:---------------------- |:--------:|:--------:|:--------:|:--------:|:--------:|:--------:|            \n",
    "| Silvia         | Amicucci               |     x    |          |          |          |          |          |\n",
    "| Juan Sebastian | Baffoni                |     x    |          |          |          |          |          |\n",
    "| Lorenzo        | Bartolini Brancaleoni  |          |          |          |          |          |          |\n",
    "| Maria Beatrice | Bozzi                  |     x    |          |          |          |          |          |\n",
    "| Giacomo        | Bramucci               |     x    |          |          |          |          |          |\n",
    "| Lorenzo        | Cassiani               |     x    |          |          |          |          |          |\n",
    "| Alex           | Fattorini              |     x    |          |          |          |          |          |\n",
    "| Alessia        | Fella                  |     x    |          |          |          |          |          |\n",
    "| Andrian        | Ghiba                  |     x    |          |          |          |          |          |\n",
    "| Erika          | Guerra                 |     x    |          |          |          |          |          |\n",
    "| Iron           | Italiani               |     x    |          |          |          |          |          |\n",
    "| Davide         | Izzo                   |     x    |          |          |          |          |          |\n",
    "| Daniele        | Malpassi               |     x    |          |          |          |          |          |\n",
    "| Roberto        | Marzi                  |     x    |          |          |          |          |          |\n",
    "| Christian      | Paperi                 |          |          |          |          |          |          |\n",
    "| Massimo        | Pontellini             |     x    |          |          |          |          |          |\n",
    "| Stefano        | Pontellini             |     x    |          |          |          |          |          |\n",
    "| Pierangelo     | Quarato                |     x    |          |          |          |          |          |\n",
    "| Elena          | Rapisardi              |     x    |          |          |          |          |          |\n",
    "| Olesia         | Rudenko                |     x    |          |          |          |          |          |\n",
    "| Lorenzo        | Scavolini              |          |          |          |          |          |          |\n",
    "| Fabio          | Solari                 |     x    |          |          |          |          |          |\n",
    "| Grent          | Sota                   |     x    |          |          |          |          |          |\n",
    "| Riccardo       | Tamanti                |     x    |          |          |          |          |          |\n"
   ]
  },
  {
   "cell_type": "code",
   "execution_count": null,
   "id": "3bfcccf0-df16-4d0a-8f2a-c98ef7fb3472",
   "metadata": {},
   "outputs": [],
   "source": [
    "print(\"Hello, World!\")"
   ]
  },
  {
   "cell_type": "code",
   "execution_count": null,
   "id": "90d72aeb-d9bf-4497-a89d-67940d528276",
   "metadata": {},
   "outputs": [],
   "source": [
    "print(\"Hello, World!)"
   ]
  },
  {
   "cell_type": "code",
   "execution_count": null,
   "id": "79863d1b-3b7e-4cce-a48a-dfce8ce588ea",
   "metadata": {},
   "outputs": [],
   "source": [
    "print('Hello, World!')"
   ]
  },
  {
   "cell_type": "code",
   "execution_count": null,
   "id": "716caa55-bb18-447b-afc2-c750270bcc7d",
   "metadata": {},
   "outputs": [],
   "source": [
    "print('Hello, World!\")"
   ]
  },
  {
   "cell_type": "code",
   "execution_count": null,
   "id": "4a431766-4c33-4d26-a0bc-6c286ed5b2cf",
   "metadata": {},
   "outputs": [],
   "source": [
    "print('Viva la \"pizza\"!')"
   ]
  },
  {
   "cell_type": "code",
   "execution_count": null,
   "id": "d28061fa-199c-4451-860f-ace2d9b6c88e",
   "metadata": {},
   "outputs": [],
   "source": [
    "print(\"Viva l'avocado!\")"
   ]
  },
  {
   "cell_type": "code",
   "execution_count": null,
   "id": "ea01d1a6-bfa5-4a2b-b892-9f425ff925b2",
   "metadata": {},
   "outputs": [],
   "source": [
    "print(\"Viva la \", \"pizza!\")"
   ]
  },
  {
   "cell_type": "code",
   "execution_count": null,
   "id": "f45400d9-6686-416f-b7f9-fd4dfdfedfa2",
   "metadata": {},
   "outputs": [],
   "source": [
    "print(A, B)"
   ]
  },
  {
   "cell_type": "code",
   "execution_count": null,
   "id": "070eb483-1a6d-4e8e-bd02-9c1465223b96",
   "metadata": {},
   "outputs": [],
   "source": [
    "A = \"Viva la \"\n",
    "B = \"pizza!\"\n",
    "A = 5\n",
    "# A = 5.0\n",
    "print(A, B)"
   ]
  },
  {
   "cell_type": "code",
   "execution_count": null,
   "id": "1834db79-c2c1-464d-b5f2-91a3327d4ff6",
   "metadata": {},
   "outputs": [],
   "source": [
    "print(\"Viva\", 5, \"volte la \\\"pizza\\\"!\")"
   ]
  },
  {
   "cell_type": "code",
   "execution_count": null,
   "id": "8d07b9fe-5023-41d4-a694-bf3e1b2ad7e4",
   "metadata": {},
   "outputs": [],
   "source": [
    "print(\"Viva\", 5, 'volte la \"pizza\"!')"
   ]
  },
  {
   "cell_type": "code",
   "execution_count": null,
   "id": "6c9a498b-a6d5-49f1-8e9f-6e346471287d",
   "metadata": {},
   "outputs": [],
   "source": [
    "print(\"\\\")"
   ]
  },
  {
   "cell_type": "code",
   "execution_count": null,
   "id": "02f4c1af-9915-4d54-81fa-69bbb3662977",
   "metadata": {},
   "outputs": [],
   "source": [
    "print(\"\\\"\")"
   ]
  },
  {
   "cell_type": "code",
   "execution_count": null,
   "id": "b52f7a9b-409f-45bd-97d7-146717e26eab",
   "metadata": {},
   "outputs": [],
   "source": [
    "print(\"\\\\\")"
   ]
  },
  {
   "cell_type": "code",
   "execution_count": null,
   "id": "2dfbd111-5608-40de-97eb-f1f93b6d9731",
   "metadata": {},
   "outputs": [],
   "source": [
    "reddito = 27000.0\n",
    "imposta = reddito * 0.23\n",
    "print(\"L'imposta per un reddito di\", reddito, \"euro è \", imposta, \"euro.\")"
   ]
  },
  {
   "cell_type": "code",
   "execution_count": null,
   "id": "a6f2d8fb-b01c-4d07-baeb-32c1d54c2fd1",
   "metadata": {},
   "outputs": [],
   "source": [
    "a = 27000.0\n",
    "b = c * 0.23\n",
    "c = 22000.0"
   ]
  },
  {
   "cell_type": "code",
   "execution_count": null,
   "id": "5e073f9f-7d4e-4903-901c-8b4cebc696a1",
   "metadata": {},
   "outputs": [],
   "source": [
    "PRIMA_ALIQUOTA = 0.23\n",
    "reddito = 27000.0\n",
    "imposta = reddito * PRIMA_ALIQUOTA\n",
    "print(\"L'imposta per un reddito di\", reddito, \"euro è \", imposta, \"euro.\")"
   ]
  },
  {
   "cell_type": "code",
   "execution_count": null,
   "id": "a87c4211-b68f-4678-b48b-fad3dea96674",
   "metadata": {},
   "outputs": [],
   "source": [
    "b = 5\n",
    "c = 3"
   ]
  },
  {
   "cell_type": "code",
   "execution_count": null,
   "id": "1229b5f2-dc26-4002-95b4-28a538db3021",
   "metadata": {},
   "outputs": [],
   "source": [
    "a = b + c\n",
    "print(b, '+', c, '=', a)"
   ]
  },
  {
   "cell_type": "code",
   "execution_count": null,
   "id": "b5ba53c7-87aa-42de-8b28-a86b0a97d617",
   "metadata": {},
   "outputs": [],
   "source": [
    "a = b * c\n",
    "print(b, '*', c, '=', a)"
   ]
  },
  {
   "cell_type": "code",
   "execution_count": null,
   "id": "09029f13-d628-466e-adea-54ef5af8a5c2",
   "metadata": {},
   "outputs": [],
   "source": [
    "a = b / c\n",
    "print(b, '/', c, '=', a)"
   ]
  },
  {
   "cell_type": "code",
   "execution_count": null,
   "id": "6e0030a2-c138-473f-a77c-247f8e61a082",
   "metadata": {},
   "outputs": [],
   "source": [
    "a = b // c   # // è il simbolo della divisione intera\n",
    "print(b, '//', c, '=', a)"
   ]
  },
  {
   "cell_type": "code",
   "execution_count": null,
   "id": "5c0f074e-e97a-48c2-b6e7-e4a0ec687c5a",
   "metadata": {},
   "outputs": [],
   "source": [
    "a = b - c\n",
    "print(b, '-', c, '=', a)"
   ]
  },
  {
   "cell_type": "code",
   "execution_count": null,
   "id": "88a5d789-6ae8-4add-987b-edacf6485135",
   "metadata": {},
   "outputs": [],
   "source": [
    "a = b % c  # attenzione % è il modulo (resto)\n",
    "print(b, '%', c, '=', a)"
   ]
  },
  {
   "cell_type": "code",
   "execution_count": null,
   "id": "83a729d0-10b9-4d9d-a0ea-68da089c67da",
   "metadata": {},
   "outputs": [],
   "source": [
    "a = 2 + 3 + 4"
   ]
  },
  {
   "cell_type": "code",
   "execution_count": null,
   "id": "f7eb3cfa-c391-479c-9e11-820f86937540",
   "metadata": {},
   "outputs": [],
   "source": [
    "a = 2 + 3 / 4\n",
    "print(a)"
   ]
  },
  {
   "cell_type": "code",
   "execution_count": null,
   "id": "2255dc66-4c8f-4d37-a0bb-68cf426c1770",
   "metadata": {},
   "outputs": [],
   "source": [
    "a = 2 + 3 - 4\n",
    "print(a)"
   ]
  },
  {
   "cell_type": "code",
   "execution_count": null,
   "id": "b7fd5330-f588-4490-b1f5-bd738b14d195",
   "metadata": {},
   "outputs": [],
   "source": [
    "a = 2 / 3 + 4\n",
    "print(a)"
   ]
  },
  {
   "cell_type": "code",
   "execution_count": null,
   "id": "96146dc5-6223-4757-b4f0-0547d6236e7c",
   "metadata": {},
   "outputs": [],
   "source": [
    "a = 1 + (2 / ( 3 + 4 ))\n",
    "print(a)"
   ]
  },
  {
   "cell_type": "code",
   "execution_count": null,
   "id": "c48d848e-692e-42cf-b237-9ce98c6caf5c",
   "metadata": {},
   "outputs": [],
   "source": [
    "REDDITO_AL_NETTO_DELLE_DEDUZIONI = 27000.0\n",
    "ALIQUOTA_SCAGLIONE_IDENTIFICATO = 0.23\n",
    "a = REDDITO_AL_NETTO_DELLE_DEDUZIONI * ALIQUOTA_SCAGLIONE_IDENTIFICATO \n",
    "- 5\n",
    "print(a)   "
   ]
  },
  {
   "cell_type": "code",
   "execution_count": null,
   "id": "eaf1d372-c24d-4d6c-9d53-61cc6548370c",
   "metadata": {},
   "outputs": [],
   "source": [
    "a = 2 ** 3 + 4\n",
    "print(a)"
   ]
  },
  {
   "cell_type": "code",
   "execution_count": null,
   "id": "5999dba5-6d67-42d2-99d6-d3b7f4a689a9",
   "metadata": {},
   "outputs": [],
   "source": [
    "a = 2 + 3 ** 4\n",
    "print(a)"
   ]
  },
  {
   "cell_type": "code",
   "execution_count": null,
   "id": "0bd1c6a8-42fb-4d00-a2ef-cbf6c3cb1de9",
   "metadata": {},
   "outputs": [],
   "source": [
    "a = 2 * 3 ** 4\n",
    "print(a)"
   ]
  },
  {
   "cell_type": "code",
   "execution_count": null,
   "id": "d5a40c21-623f-4a6b-af5b-f23d813ef0b5",
   "metadata": {},
   "outputs": [],
   "source": [
    "a = 2 * 3 ** 4\n",
    "print(a)"
   ]
  },
  {
   "cell_type": "code",
   "execution_count": null,
   "id": "a5eec2f2-2b18-47f6-b2b2-97164771f243",
   "metadata": {},
   "outputs": [],
   "source": [
    "z = 2 ^ 3 ** 4\n",
    "print(z)"
   ]
  },
  {
   "cell_type": "code",
   "execution_count": null,
   "id": "8a2e28b3-f1d8-4339-9dc7-5ad37924aa2c",
   "metadata": {},
   "outputs": [],
   "source": [
    "print(round(7.212))"
   ]
  },
  {
   "cell_type": "code",
   "execution_count": null,
   "id": "435604e6-c8c7-4305-bf5b-e387fe95acc0",
   "metadata": {},
   "outputs": [],
   "source": [
    "print(round(7.212, 2))"
   ]
  },
  {
   "cell_type": "code",
   "execution_count": null,
   "id": "43c0cd2d-8086-4720-860e-c1e283fb6c79",
   "metadata": {},
   "outputs": [],
   "source": [
    "print(int(round(7.212, 0)))"
   ]
  },
  {
   "cell_type": "code",
   "execution_count": null,
   "id": "089a45c0-fb1f-4ed0-a50d-36e7be0f897b",
   "metadata": {},
   "outputs": [],
   "source": [
    "print(round(7.212, 0))"
   ]
  },
  {
   "cell_type": "code",
   "execution_count": null,
   "id": "f2b71cc5-c300-46d9-8c7b-380469a4130e",
   "metadata": {},
   "outputs": [],
   "source": [
    "from math import sqrt\n",
    "print(sqrt(64))"
   ]
  },
  {
   "cell_type": "code",
   "execution_count": null,
   "id": "a5bc7cac-acdf-45e6-99e2-26eb824f45db",
   "metadata": {},
   "outputs": [],
   "source": [
    "from math import atan, sqrt\n",
    "print(atan(64))"
   ]
  },
  {
   "cell_type": "code",
   "execution_count": null,
   "id": "da294faa-331e-4cbd-8460-1717e2fb94fd",
   "metadata": {},
   "outputs": [],
   "source": [
    "from math import *\n",
    "print(atan(64))"
   ]
  },
  {
   "cell_type": "code",
   "execution_count": null,
   "id": "bdc7a8a0-ee5b-40b5-b932-00737ad78167",
   "metadata": {},
   "outputs": [],
   "source": [
    "import math\n",
    "print(atan(64))"
   ]
  },
  {
   "cell_type": "code",
   "execution_count": null,
   "id": "6379b75c-76c9-4040-bdf6-67e612c921e4",
   "metadata": {},
   "outputs": [],
   "source": [
    "a = ((5 * -7) * 21)\n",
    "print(a)"
   ]
  },
  {
   "cell_type": "code",
   "execution_count": null,
   "id": "6444b192-0521-40df-9a68-daa230bad43c",
   "metadata": {},
   "outputs": [],
   "source": [
    "reddito -= 28000"
   ]
  },
  {
   "cell_type": "code",
   "execution_count": null,
   "id": "816f8f59-70f9-4aee-81b9-191cfcc524e8",
   "metadata": {},
   "outputs": [],
   "source": [
    "cnt += 1"
   ]
  },
  {
   "cell_type": "code",
   "execution_count": null,
   "id": "990e1cec-c100-417e-a855-bb23567bdae0",
   "metadata": {},
   "outputs": [],
   "source": [
    "commento = ''\n",
    "print(commento)\n",
    "commento += 'Ciao!'\n",
    "print(commento)\n",
    "commento += 'Ciao!'\n",
    "print(commento)"
   ]
  },
  {
   "cell_type": "code",
   "execution_count": null,
   "id": "2e032cba-d9a4-4d4f-9c4d-eb24cf67db8e",
   "metadata": {},
   "outputs": [],
   "source": [
    "nome = \"Fabio\"\n",
    "cognome = \"Rossi\"\n",
    "anni = 62\n",
    "scheda = nome + cognome + str(anni)\n",
    "print(scheda)"
   ]
  },
  {
   "cell_type": "code",
   "execution_count": null,
   "id": "08abd6d6-ad3f-443b-ab91-503921ea5f5c",
   "metadata": {},
   "outputs": [],
   "source": [
    "print(\"Viva la\" + \"pizza!\")"
   ]
  },
  {
   "cell_type": "code",
   "execution_count": null,
   "id": "f931c6f3-8682-4560-8c43-522e1e0358c5",
   "metadata": {},
   "outputs": [],
   "source": [
    "print(\"12X\" * 5)"
   ]
  },
  {
   "cell_type": "code",
   "execution_count": null,
   "id": "be8946c1-73a7-4271-bb0d-8e4258f25dca",
   "metadata": {},
   "outputs": [],
   "source": [
    "print(\"-\" * 25)"
   ]
  },
  {
   "cell_type": "code",
   "execution_count": null,
   "id": "aa60c82e-e085-4f16-b7b7-43b0e090758e",
   "metadata": {},
   "outputs": [],
   "source": [
    "greca = \"|/--\\\\\" * 10 + \"|\"\n",
    "print(greca)"
   ]
  },
  {
   "cell_type": "code",
   "execution_count": null,
   "id": "b0e12649-bbd6-4b26-8703-02d43f8092f7",
   "metadata": {},
   "outputs": [],
   "source": [
    "quantita = 1.23456789e3\n",
    "print(quantita)"
   ]
  },
  {
   "cell_type": "code",
   "execution_count": null,
   "id": "f9af527e-b86c-4b8e-9ecf-6b276f425578",
   "metadata": {},
   "outputs": [],
   "source": [
    "quantita = round(float(\"1.23456E3\"))\n",
    "print(quantita)"
   ]
  },
  {
   "cell_type": "code",
   "execution_count": null,
   "id": "5256a5ef-66be-4fe2-bf8e-71bf9db72a12",
   "metadata": {},
   "outputs": [],
   "source": [
    "print(greca[9])"
   ]
  },
  {
   "cell_type": "code",
   "execution_count": null,
   "id": "bf5854eb-4e19-42c6-83ea-79641b0f8196",
   "metadata": {},
   "outputs": [],
   "source": [
    "print(greca[51])"
   ]
  },
  {
   "cell_type": "code",
   "execution_count": null,
   "id": "a9f6efef-0d2e-41e4-be81-4192e8374957",
   "metadata": {},
   "outputs": [],
   "source": [
    "print(len(greca))"
   ]
  },
  {
   "cell_type": "code",
   "execution_count": null,
   "id": "8b057c8b-0403-4830-a8e8-784a0a3697a5",
   "metadata": {},
   "outputs": [],
   "source": [
    "print(greca[len(greca)-1])"
   ]
  },
  {
   "cell_type": "code",
   "execution_count": 109,
   "id": "75c74714-3013-4077-b49f-61d940ce8884",
   "metadata": {},
   "outputs": [
    {
     "name": "stdout",
     "output_type": "stream",
     "text": [
      "ANDREA RIBUOLI\n",
      "andrea ribuoli\n"
     ]
    }
   ],
   "source": [
    "nome = \"Andrea Ribuoli\"\n",
    "print(nome.upper() + \"\\n\" + nome.lower())"
   ]
  },
  {
   "cell_type": "code",
   "execution_count": 111,
   "id": "2afc5421-2454-4d0f-ab91-e8c23b636d13",
   "metadata": {},
   "outputs": [
    {
     "name": "stdout",
     "output_type": "stream",
     "text": [
      "\t Andrea Ribuoli\n"
     ]
    }
   ],
   "source": [
    "print(\"\\t\", nome)"
   ]
  },
  {
   "cell_type": "code",
   "execution_count": 112,
   "id": "6010fcd2-61bd-4c82-b4f5-4c88bd339a8a",
   "metadata": {},
   "outputs": [
    {
     "name": "stdout",
     "output_type": "stream",
     "text": [
      "\tAndrea Ribuoli\n"
     ]
    }
   ],
   "source": [
    "print(\"\\t\" + nome)"
   ]
  },
  {
   "cell_type": "code",
   "execution_count": 116,
   "id": "c9cd5ee3-386e-4369-a354-dfa555451497",
   "metadata": {},
   "outputs": [
    {
     "name": "stdout",
     "output_type": "stream",
     "text": [
      "Qta Prodotti                   IVA    TOTALE\n",
      "  2 Hamburger                  10%      2.80\n",
      "  1 6 McNuggets                10%      4.90\n",
      "  1 McMenu Large Big Mac       10%      8.80\n"
     ]
    }
   ],
   "source": [
    "formato = \"%3d %-26s 10%% %9.2f\"\n",
    "print(\"Qta Prodotti                   IVA    TOTALE\\n\" +\n",
    "      formato % (2, \"Hamburger\", 2.8) + \"\\n\" +\n",
    "      formato % (1, \"6 McNuggets\", 4.9) + \"\\n\" +\n",
    "      formato % (1, \"McMenu Large Big Mac\", 8.8))"
   ]
  }
 ],
 "metadata": {
  "kernelspec": {
   "display_name": "Python 3 (ipykernel)",
   "language": "python",
   "name": "python3"
  },
  "language_info": {
   "codemirror_mode": {
    "name": "ipython",
    "version": 3
   },
   "file_extension": ".py",
   "mimetype": "text/x-python",
   "name": "python",
   "nbconvert_exporter": "python",
   "pygments_lexer": "ipython3",
   "version": "3.9.20"
  }
 },
 "nbformat": 4,
 "nbformat_minor": 5
}
