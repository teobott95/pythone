{
 "cells": [
  {
   "cell_type": "markdown",
   "id": "c5783b23-0653-4642-b141-423a69df4525",
   "metadata": {},
   "source": [
    "## Corso ITS: \n",
    "## PROGETTISTA E SVILUPPATORE SOFTWARE:\n",
    "## *FULL STACK DEVELOPER E CLOUD SPECIALIST*\n",
    "## Modulo: **Programmazione in Python**\n",
    "## Docente: *Andrea Ribuoli*\n",
    "\n",
    "----\n",
    "# Mercoledì **2 Aprile** 2025\n",
    "# 09:00 - 14:00\n",
    "----"
   ]
  },
  {
   "cell_type": "markdown",
   "id": "4df313f9-e49c-4c72-9edf-2003db782cf9",
   "metadata": {},
   "source": [
    "# elaborazione con controllo eccezione per fine input"
   ]
  },
  {
   "cell_type": "code",
   "execution_count": null,
   "id": "d0103260-e6c1-4e62-9b45-4f642d14e7ff",
   "metadata": {},
   "outputs": [],
   "source": [
    "ALIQUOTA_1  = 0.23\n",
    "ALIQUOTA_2  = 0.35\n",
    "ALIQUOTA_3  = 0.43\n",
    "SCAGLIONE_1 = 28000\n",
    "SCAGLIONE_2 = 50000\n",
    "MSG = \"Inserisci il reddito: \"\n",
    "# MSG = \"\"\n",
    "\n",
    "while True:\n",
    "    try :\n",
    "        reddito = int(input(MSG))\n",
    "    except EOFError :\n",
    "        break        \n",
    "    imposta = 0\n",
    "    if reddito <= SCAGLIONE_1:\n",
    "        imposta = reddito * ALIQUOTA_1\n",
    "    else:\n",
    "        if reddito > SCAGLIONE_1 and reddito <= SCAGLIONE_2:\n",
    "            imposta = ( SCAGLIONE_1 * ALIQUOTA_1 +\n",
    "                       (reddito - SCAGLIONE_1) * ALIQUOTA_2)\n",
    "        else:\n",
    "            imposta = ( SCAGLIONE_1 * ALIQUOTA_1 +\n",
    "                        ( SCAGLIONE_2 - SCAGLIONE_1 ) * ALIQUOTA_2 +\n",
    "                        ( reddito - SCAGLIONE_2 ) * ALIQUOTA_3)\n",
    "    print(f\"L'imposta da pagare per un reddito di {'%9.2f' % reddito} € è {'%9.2f' % imposta} €\")"
   ]
  },
  {
   "cell_type": "code",
   "execution_count": 3,
   "id": "3293f789-76e9-4568-91d9-0516d29ef30d",
   "metadata": {},
   "outputs": [
    {
     "name": "stdout",
     "output_type": "stream",
     "text": [
      "L'imposta da pagare per un reddito di  10000.00 € è   2300.00 €\n",
      "L'imposta da pagare per un reddito di  28000.00 € è   6440.00 €\n",
      "L'imposta da pagare per un reddito di  38000.00 € è   9940.00 €\n",
      "L'imposta da pagare per un reddito di  50000.00 € è  14140.00 €\n",
      "L'imposta da pagare per un reddito di  60000.00 € è  18440.00 €\n"
     ]
    }
   ],
   "source": [
    "!python imposta.py < imposta_input.txt"
   ]
  },
  {
   "cell_type": "markdown",
   "id": "654be5ec-8d96-4ede-9cca-82fd17f67c6c",
   "metadata": {},
   "source": [
    "# esempio con valore sentinella"
   ]
  },
  {
   "cell_type": "code",
   "execution_count": 11,
   "id": "3e3747ff-a980-4efa-bb28-2ecea5a7c935",
   "metadata": {},
   "outputs": [
    {
     "name": "stdin",
     "output_type": "stream",
     "text": [
      "Passami il prossimo valore oppure 'exit':  10e2\n",
      "Passami il prossimo valore oppure 'exit':  exit\n"
     ]
    },
    {
     "name": "stdout",
     "output_type": "stream",
     "text": [
      "Numeri letti sono :  1\n",
      "La somma dei numeri è :  1000.0\n",
      "La media dei numeri letti è:  1000.0\n"
     ]
    }
   ],
   "source": [
    "# media.py\n",
    "\n",
    "# Acquisire tramite input() una sequenza di valori numerici \n",
    "# fino a che l'utente non scriva 'exit'. \n",
    "# In tal caso stampare la media dei valori letti.\n",
    "\n",
    "somma = 0.0\n",
    "numeri_letti = 0\n",
    "valore_stringa = input(\"Passami il prossimo valore oppure 'exit': \")\n",
    "while valore_stringa != \"exit\":\n",
    "    try :\n",
    "        addendo = float(valore_stringa)\n",
    "    except ValueError as errore :  \n",
    "        print(errore)\n",
    "        valore_stringa = input(\"Passami il prossimo valore oppure 'exit': \") \n",
    "        continue\n",
    "    numeri_letti += 1\n",
    "    somma += addendo\n",
    "    valore_stringa = input(\"Passami il prossimo valore oppure 'exit': \")\n",
    "print(\"Numeri letti sono : \", numeri_letti)\n",
    "print(\"La somma dei numeri è : \", somma)\n",
    "if numeri_letti == 0 :\n",
    "    print(\"La media ha senso quando esiste almeno un dato.\")\n",
    "else :    \n",
    "    print(\"La media dei numeri letti è: \", somma / numeri_letti)"
   ]
  },
  {
   "cell_type": "code",
   "execution_count": 19,
   "id": "66bd44dc-6bff-4134-9553-e9b89555319e",
   "metadata": {},
   "outputs": [
    {
     "name": "stdin",
     "output_type": "stream",
     "text": [
      "Passami un numero:  123w\n"
     ]
    },
    {
     "data": {
      "text/plain": [
       "True"
      ]
     },
     "execution_count": 19,
     "metadata": {},
     "output_type": "execute_result"
    }
   ],
   "source": [
    "# metodi isalpha, isdigit and isalnum\n",
    "\n",
    "valore_stringa = input(\"Passami un numero: \")\n",
    "valore_stringa.isalnum()"
   ]
  },
  {
   "cell_type": "markdown",
   "id": "2a66ef79-e794-4dd9-b311-30e49293f095",
   "metadata": {},
   "source": [
    "# check_data.py\n",
    "\n",
    "Acquisire l'input da utente controllando se il contenuto della stringa\n",
    "può essere interpretato come una data. \n",
    "\n",
    "Restituirlo (`print`) in un formato standard.\n",
    "\n",
    "### esempi\n",
    "\n",
    "```\n",
    "3/3/25   => 03-03-2025\n",
    "7-5-24   => 07-05-2024\n",
    "29/3     => 29-03-2025\n",
    "\n",
    "2 2 25   => 02-02-2025\n",
    "5 Maggio => 05-05-2025\n",
    "``` "
   ]
  },
  {
   "cell_type": "code",
   "execution_count": null,
   "id": "5b744bff-3cce-476c-8a6d-0a8ca1fb6e2c",
   "metadata": {},
   "outputs": [],
   "source": []
  }
 ],
 "metadata": {
  "kernelspec": {
   "display_name": "Python 3 (ipykernel)",
   "language": "python",
   "name": "python3"
  },
  "language_info": {
   "codemirror_mode": {
    "name": "ipython",
    "version": 3
   },
   "file_extension": ".py",
   "mimetype": "text/x-python",
   "name": "python",
   "nbconvert_exporter": "python",
   "pygments_lexer": "ipython3",
   "version": "3.9.21"
  }
 },
 "nbformat": 4,
 "nbformat_minor": 5
}
