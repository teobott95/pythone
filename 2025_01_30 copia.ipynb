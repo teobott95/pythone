{
 "cells": [
  {
   "cell_type": "markdown",
   "id": "45581675-e44b-4bf2-90de-78f26ac32644",
   "metadata": {},
   "source": [
    "## Corso ITS: *ARTIFICIAL INTELLIGENCE SPECIALIST*\n",
    "## Modulo: **Programmazione Procedurale in Python**\n",
    "## Docente: *Andrea Ribuoli*\n",
    "----\n",
    "# Giovedì **30 Gennaio** 2025\n",
    "# 09:00 - 14:00\n",
    "----"
   ]
  },
  {
   "cell_type": "markdown",
   "id": "69148c09",
   "metadata": {},
   "source": [
    "### verifica esercizio assegnato"
   ]
  },
  {
   "cell_type": "markdown",
   "id": "9bfbec31",
   "metadata": {},
   "source": [
    "* il **contenitore** di tipo *lista* è **solo uno** dei tipi di contenitore\n",
    "* Python offre anche **insiemi** e **dizionari** \n",
    "* potremo **combinare** più contenitori per ottenere strutture più complesse"
   ]
  },
  {
   "cell_type": "markdown",
   "id": "6985d5f7",
   "metadata": {},
   "source": [
    "## insiemi"
   ]
  },
  {
   "cell_type": "markdown",
   "id": "3d18e260",
   "metadata": {},
   "source": [
    "* un **insieme**(*set*) memorizza valori **univoci**\n",
    "* ossia non possono esistere elementi duplicati\n",
    "* contrariamente alle *liste*, non esiste un ordine degli elementi\n",
    "* quindi, non vi si può accedere con un indice\n",
    "* le **operazioni** sugli insiemi sono quella della matematica  \n",
    "* *maggiore velocità* rispetto alle liste (non occorre ordinamento)"
   ]
  },
  {
   "cell_type": "code",
   "execution_count": 30,
   "id": "84fe1b39",
   "metadata": {},
   "outputs": [
    {
     "name": "stdout",
     "output_type": "stream",
     "text": [
      "{'♣', '♥', '♦', '♠'}\n"
     ]
    }
   ],
   "source": [
    "PICCHE = chr(9824)\n",
    "FIORI  = chr(9827)\n",
    "CUORI  = chr(9829)\n",
    "QUADRI = chr(9830)\n",
    "semi = {  PICCHE, FIORI, CUORI, QUADRI }\n",
    "print(semi)"
   ]
  },
  {
   "cell_type": "markdown",
   "id": "4971f59f",
   "metadata": {},
   "source": [
    "* l'**ordine** di visita dipende dalla modalità di memorizzazione (dettagli tecnici)"
   ]
  },
  {
   "cell_type": "code",
   "execution_count": 31,
   "id": "93423116",
   "metadata": {},
   "outputs": [
    {
     "name": "stdout",
     "output_type": "stream",
     "text": [
      "♠\n",
      "♣\n",
      "♥\n",
      "♦\n"
     ]
    }
   ],
   "source": [
    "for seme in sorted(semi) :\n",
    "    print(seme)"
   ]
  },
  {
   "cell_type": "markdown",
   "id": "9a8bdb00",
   "metadata": {},
   "source": [
    "* non si può inizializzare un **insieme vuoto** in modo simile alle liste\n",
    "* è necessario scrivere: `insieme_vuoto = set()`"
   ]
  },
  {
   "cell_type": "code",
   "execution_count": 32,
   "id": "19a7a507",
   "metadata": {},
   "outputs": [
    {
     "name": "stdout",
     "output_type": "stream",
     "text": [
      "4\n"
     ]
    }
   ],
   "source": [
    "print(len(semi))"
   ]
  },
  {
   "cell_type": "markdown",
   "id": "9d5a769a",
   "metadata": {},
   "source": [
    "* operatore di appartenenza è **in** "
   ]
  },
  {
   "cell_type": "code",
   "execution_count": 33,
   "id": "cc6a8fdb",
   "metadata": {},
   "outputs": [
    {
     "name": "stdout",
     "output_type": "stream",
     "text": [
      "Ci sono anche le PICCHE\n"
     ]
    }
   ],
   "source": [
    "if PICCHE in semi :\n",
    "    print(\"Ci sono anche le PICCHE\")"
   ]
  },
  {
   "cell_type": "markdown",
   "id": "ff611708",
   "metadata": {},
   "source": [
    "* si possono *aggiungere* (`add`) e *rimuovere* (`discard` .vs. `remove`) elementi\n",
    "* **discard**, se non trova l'elemento, lascia l'insieme invariato ma non segnala errore\n",
    "* **remove**, se non trova l'elemento, solleva una *eccezione*\n",
    "* il metodo **clear** svuota l'insieme di tutti gli elementi presenti"
   ]
  },
  {
   "cell_type": "markdown",
   "id": "a951c63f",
   "metadata": {},
   "source": [
    "* concetto di **sotto\\-insieme** \n",
    "* metodo **issubset**: *True* o *False*\n",
    "* insiemi uguali? `==`\n",
    "* insiemi diversi? `!=`\n",
    "* concetto di **unione**\n",
    "* metodo **union** (l'operazione elimina eventuali duplicati)\n",
    "* concetto di **intersezione**\n",
    "* metodo **intersection**\n",
    "* concetto di **differenza**\n",
    "* metodo **difference**"
   ]
  },
  {
   "cell_type": "markdown",
   "id": "22e6b44e",
   "metadata": {},
   "source": [
    "## dizionari"
   ]
  },
  {
   "cell_type": "markdown",
   "id": "bd27f346",
   "metadata": {},
   "source": [
    "* un **dizionario**(*dictionary*) è un contenitore che memorizza associazioni **chiave\\-valore** (*key\\-value*)\n",
    "* ogni chiave è associata ad un valore (univoche)\n",
    "* un singolo valore può però essere associato a più chiavi"
   ]
  },
  {
   "cell_type": "code",
   "execution_count": 34,
   "id": "112918fb",
   "metadata": {},
   "outputs": [],
   "source": [
    "famiglia = { \"Andrea\": 62, \"Laura\": 59, \"Roberto\": 34, \"Giovanni\": 29, \"Francesca\": 23 }"
   ]
  },
  {
   "cell_type": "markdown",
   "id": "4e1d4ad0",
   "metadata": {},
   "source": [
    "* coppie chiave\\-valore separate dai **due punti** (`:`)\n",
    "* elenco raccolto tra **parentesi graffe** (`{}`)\n",
    "* coppie separate da **virgole** (`,`)\n",
    "* come con **list()** per le liste con **dict()** si copia un dizionario \n",
    "* l'operatore di indicizzazione (`[key]`) si usa per accedere al valore associato"
   ]
  },
  {
   "cell_type": "code",
   "execution_count": 35,
   "id": "3af963a6",
   "metadata": {},
   "outputs": [
    {
     "name": "stdout",
     "output_type": "stream",
     "text": [
      "Giovanni ha già compiuto 29 anni\n"
     ]
    }
   ],
   "source": [
    "print(\"Giovanni ha già compiuto\", famiglia[\"Giovanni\"], \"anni\")"
   ]
  },
  {
   "cell_type": "markdown",
   "id": "8c1f2b79",
   "metadata": {},
   "source": [
    "* dizionario **vuoto**: `nipoti = {}`\n",
    "* modifica valore con `famiglia[\"Francesca\"] += 1`\n",
    "* eliminazione coppie con `pop(key)` (eccezione se key assente)\n",
    "* scansione delle chiavi con `for key in famiglia :` (ordine in base a ottimizzazione)\n",
    "* alternativamente `for key in sorted(famiglia :` (se chiave alfanumerica, ordine lessicografico)\n",
    "* scansione dei valori con `for eta in famiglia.values() :`\n",
    "* in un colpo solo: `for item in contact.items() :` (**items** restituisce sequenza di tuple)"
   ]
  }
 ],
 "metadata": {
  "kernelspec": {
   "display_name": "Python 3",
   "language": "python",
   "name": "python3"
  },
  "language_info": {
   "codemirror_mode": {
    "name": "ipython",
    "version": 3
   },
   "file_extension": ".py",
   "mimetype": "text/x-python",
   "name": "python",
   "nbconvert_exporter": "python",
   "pygments_lexer": "ipython3",
   "version": "3.11.4"
  }
 },
 "nbformat": 4,
 "nbformat_minor": 5
}
